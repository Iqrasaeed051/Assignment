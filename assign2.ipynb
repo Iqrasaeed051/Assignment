{
 "cells": [
  {
   "cell_type": "code",
   "execution_count": 34,
   "metadata": {},
   "outputs": [
    {
     "name": "stdout",
     "output_type": "stream",
     "text": [
      "Enter your grade1 marks:45\n",
      "Enter your grade2 marks:65\n",
      "Enter your grade3 marks:75\n",
      "Enter your grade4 marks:58\n",
      "Enter your grade5 marks:69\n",
      "C\n"
     ]
    }
   ],
   "source": [
    "### TASK 1\n",
    "\n",
    "## Marksheet\n",
    "\n",
    "grade1 = float(input(\"Enter your grade1 marks:\"))\n",
    "grade2 = float(input(\"Enter your grade2 marks:\"))\n",
    "grade3 = float(input(\"Enter your grade3 marks:\"))\n",
    "grade4 = float(input(\"Enter your grade4 marks:\"))\n",
    "grade5 = float(input(\"Enter your grade5 marks:\"))\n",
    "avg = (grade1+grade2+grade3+grade4+grade5)/500\n",
    "per = avg*100\n",
    "if(per>=80):\n",
    "    print(\"A\")\n",
    "elif(per>=70 and per <80):\n",
    "    print(\"B\")\n",
    "elif(per>=60 and per <70):\n",
    "    print(\"C\")\n",
    "elif(per>=50 and per <60):\n",
    "    print(\"D\")\n",
    "elif(per>=40 and per <50):\n",
    "    print(\"E\")\n",
    "elif(per>=30 and per <40) :\n",
    "    print(\"F\")\n",
    "else:\n",
    "    print(\"You have given inappropiate percentage\")"
   ]
  },
  {
   "cell_type": "code",
   "execution_count": 41,
   "metadata": {},
   "outputs": [
    {
     "name": "stdout",
     "output_type": "stream",
     "text": [
      "Enter any number:8\n",
      "Even number\n"
     ]
    }
   ],
   "source": [
    "### TASK 2\n",
    "\n",
    "## No's are even or odd\n",
    "\n",
    "a = int(input(\"Enter any number:\"))\n",
    "if(a%2 == 0):\n",
    "    print(\"Even number\")\n",
    "else:\n",
    "    print(\"odd number\")"
   ]
  },
  {
   "cell_type": "code",
   "execution_count": 50,
   "metadata": {},
   "outputs": [
    {
     "data": {
      "text/plain": [
       "6"
      ]
     },
     "execution_count": 50,
     "metadata": {},
     "output_type": "execute_result"
    }
   ],
   "source": [
    "### TASK 3\n",
    "\n",
    "## the length of the list\n",
    "\n",
    "arr = [5,10,15,'ali', 'ahmed', 'sara']\n",
    "arr_len = len(arr)\n",
    "arr_len"
   ]
  },
  {
   "cell_type": "code",
   "execution_count": 52,
   "metadata": {},
   "outputs": [
    {
     "data": {
      "text/plain": [
       "50"
      ]
     },
     "execution_count": 52,
     "metadata": {},
     "output_type": "execute_result"
    }
   ],
   "source": [
    "### TASK 4\n",
    "\n",
    "## Sum all numeric item in a list\n",
    "\n",
    "arr = [ 5,10,15,20]\n",
    "sum(arr)"
   ]
  },
  {
   "cell_type": "code",
   "execution_count": 59,
   "metadata": {},
   "outputs": [
    {
     "data": {
      "text/plain": [
       "58"
      ]
     },
     "execution_count": 59,
     "metadata": {},
     "output_type": "execute_result"
    }
   ],
   "source": [
    "### TASK 5\n",
    "\n",
    "## get the largest number from a numeric list\n",
    "\n",
    "arr = [5, 10,15,3,58]\n",
    "max(arr)"
   ]
  },
  {
   "cell_type": "code",
   "execution_count": 61,
   "metadata": {},
   "outputs": [
    {
     "name": "stdout",
     "output_type": "stream",
     "text": [
      "1\n",
      "1\n",
      "2\n",
      "3\n"
     ]
    }
   ],
   "source": [
    "### TASK 6\n",
    "\n",
    "## elements of the list that are < 5\n",
    "\n",
    "a = [1, 1, 2, 3, 5, 8, 13, 21, 34, 55, 89]\n",
    "for i in a:\n",
    "    if(i<5):\n",
    "            print(i)"
   ]
  }
 ],
 "metadata": {
  "kernelspec": {
   "display_name": "Python 3",
   "language": "python",
   "name": "python3"
  }
 },
 "nbformat": 4,
 "nbformat_minor": 2
}
