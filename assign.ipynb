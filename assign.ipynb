{
 "cells": [
  {
   "cell_type": "code",
   "execution_count": 4,
   "metadata": {},
   "outputs": [
    {
     "name": "stdout",
     "output_type": "stream",
     "text": [
      "Twinkle, Twinkle little star,\\n\\t How I wonder what you are!\n",
      "\t\t Up above the world so high,\n",
      "\t\t Like the diamond in the sky.\n",
      " Twinkle, Twinkle,little star,\n",
      "\t How I wonder What you are!\n"
     ]
    }
   ],
   "source": [
    "print(\"Twinkle, Twinkle little star,\\\\n\\\\t How I wonder what you are!\\n\\t\\t Up above the world so high,\\n\\t\\t Like the diamond in the sky.\\n Twinkle, Twinkle,little star,\\n\\t How I wonder What you are!\")\n"
   ]
  },
  {
   "cell_type": "code",
   "execution_count": 5,
   "metadata": {},
   "outputs": [
    {
     "name": "stdout",
     "output_type": "stream",
     "text": [
      "3.7.4 (default, Aug  9 2019, 18:22:51) [MSC v.1915 32 bit (Intel)]\n"
     ]
    }
   ],
   "source": [
    " import sys\n",
    "print(sys.version)"
   ]
  },
  {
   "cell_type": "code",
   "execution_count": 19,
   "metadata": {},
   "outputs": [
    {
     "name": "stdout",
     "output_type": "stream",
     "text": [
      "Enter the area of a circle:10\n",
      "314.0\n"
     ]
    }
   ],
   "source": [
    "pi = 3.14\n",
    "r = float(input(\"Enter the area of a circle:\"))\n",
    "area = pi*r*r\n",
    "print(area)\n",
    "\n"
   ]
  },
  {
   "cell_type": "code",
   "execution_count": 18,
   "metadata": {},
   "outputs": [
    {
     "name": "stdout",
     "output_type": "stream",
     "text": [
      "now= 2019-11-04 00:21:10.984243\n",
      "date and time: 20191104 00:21:10\n"
     ]
    }
   ],
   "source": [
    "from datetime import datetime\n",
    "now = datetime.now()\n",
    "print(\"now=\",now)\n",
    "st_string = now.strftime(\"%Y%m%d %H:%M:%S\")\n",
    "print(\"date and time:\",st_string)"
   ]
  },
  {
   "cell_type": "code",
   "execution_count": 20,
   "metadata": {},
   "outputs": [
    {
     "name": "stdout",
     "output_type": "stream",
     "text": [
      "iqra saeed\n",
      "deeas arqi\n"
     ]
    }
   ],
   "source": [
    "f_name = \"iqra\"\n",
    "l_name = \"saeed\"\n",
    "final = f_name + \" \" + l_name\n",
    "str_length = len(final)\n",
    "sl = final[str_length::-1]\n",
    "print(final)\n",
    "print(sl)\n"
   ]
  },
  {
   "cell_type": "code",
   "execution_count": 21,
   "metadata": {},
   "outputs": [
    {
     "name": "stdout",
     "output_type": "stream",
     "text": [
      "Enter first number:5\n",
      "Enter second number:6\n",
      "11\n"
     ]
    }
   ],
   "source": [
    "a = input(\"Enter first number:\")\n",
    "b = input(\"Enter second number:\")\n",
    "sum = int(a)+int(b)\n",
    "print(sum)\n"
   ]
  },
  {
   "cell_type": "code",
   "execution_count": null,
   "metadata": {},
   "outputs": [],
   "source": []
  }
 ],
 "metadata": {
  "kernelspec": {
   "display_name": "Python 3",
   "language": "python",
   "name": "python3"
  },
  "language_info": {
   "codemirror_mode": {
    "name": "ipython",
    "version": 3
   },
   "file_extension": ".py",
   "mimetype": "text/x-python",
   "name": "python",
   "nbconvert_exporter": "python",
   "pygments_lexer": "ipython3",
   "version": "3.7.4"
  }
 },
 "nbformat": 4,
 "nbformat_minor": 2
}
