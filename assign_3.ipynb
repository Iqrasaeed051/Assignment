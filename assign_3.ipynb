{
 "cells": [
  {
   "cell_type": "code",
   "execution_count": 8,
   "metadata": {},
   "outputs": [
    {
     "name": "stdout",
     "output_type": "stream",
     "text": [
      "Enter your first number: 4\n",
      "Enter your second number: 5\n",
      "4 + 5 = \n",
      "9\n",
      "4 - 5 = \n",
      "-1\n",
      "4 * 5 = \n",
      "20\n",
      "4 / 5 = \n",
      "0.8\n",
      "4**2= \n",
      "16\n"
     ]
    }
   ],
   "source": [
    "## TASK 1\n",
    "### calculator using Python\n",
    "\n",
    "\n",
    "num_1 = int(input('Enter your first number: '))\n",
    "num_2 = int(input('Enter your second number: '))\n",
    "\n",
    "# Addition\n",
    "\n",
    "print('{} + {} = '.format(num_1, num_2))\n",
    "print(num_1 + num_2)\n",
    "\n",
    "# Subtraction\n",
    "\n",
    "print('{} - {} = '.format(num_1, num_2))\n",
    "print(num_1 - num_2)\n",
    "\n",
    "# Multiplication\n",
    "\n",
    "print('{} * {} = '.format(num_1, num_2))\n",
    "print(num_1 * num_2)\n",
    "\n",
    "# Division\n",
    "\n",
    "print('{} / {} = '.format(num_1, num_2))\n",
    "print(num_1 / num_2)\n",
    "\n",
    "#Power\n",
    "\n",
    "print('{}**2= '.format(num_1))\n",
    "print(num_1**2)"
   ]
  },
  {
   "cell_type": "code",
   "execution_count": 9,
   "metadata": {},
   "outputs": [
    {
     "name": "stdout",
     "output_type": "stream",
     "text": [
      "Element Exists\n",
      "Checking if 4 exists in list ( using in ) : \n"
     ]
    }
   ],
   "source": [
    "## TASK 2\n",
    "### check if there is any numeric value in list using for loop\n",
    "\n",
    "\n",
    "check_list = [ 1, 6, 3, 5, 3, 4 ] \n",
    "for i in check_list: \n",
    "    if(i == 4) : \n",
    "        print (\"Element Exists\") \n",
    "  \n",
    "print(\"Checking if 4 exists in list ( using in ) : \") "
   ]
  },
  {
   "cell_type": "code",
   "execution_count": 12,
   "metadata": {},
   "outputs": [
    {
     "name": "stdout",
     "output_type": "stream",
     "text": [
      "{'key1': 'iq', 'key2': 'saeed', 'newkey1': 'iqra'}\n"
     ]
    }
   ],
   "source": [
    "## TASK 3\n",
    "### ADD SCRIPT TO A DICTIONARY\n",
    "\n",
    "dict = {'key1':'iq', 'key2':'saeed'} \n",
    "dict.__setitem__('newkey1', 'iqra') \n",
    "print(dict) "
   ]
  },
  {
   "cell_type": "code",
   "execution_count": 14,
   "metadata": {},
   "outputs": [
    {
     "data": {
      "text/plain": [
       "95"
      ]
     },
     "execution_count": 14,
     "metadata": {},
     "output_type": "execute_result"
    }
   ],
   "source": [
    "## TASK 3\n",
    "### SUM ITEM IN A LIST\n",
    "\n",
    "d = {'key1': 6,'key2': 44,'key3': 45}\n",
    "sum(d.values())\n"
   ]
  },
  {
   "cell_type": "code",
   "execution_count": 18,
   "metadata": {},
   "outputs": [
    {
     "name": "stdout",
     "output_type": "stream",
     "text": [
      "[6, 7, 11, 15, 15, 20, 20, 20, 30, 30, 40, 40, 50, 50]\n",
      "[15, 20, 30, 40, 50]\n"
     ]
    }
   ],
   "source": [
    "## TASK 4\n",
    "### Duplicate Values in a list\n",
    "\n",
    "list = [20,30,20,30,40,50,15,11,20,40,50,15,6,7]\n",
    " \n",
    "list.sort()\n",
    "print(list)\n",
    " \n",
    "nlist = sorted(set(list))\n",
    "dup_list =[]\n",
    " \n",
    " \n",
    "for i in range(len(nlist)):\n",
    "        if (list.count(nlist[i]) > 1 ):\n",
    "            dup_list.append(nlist[i])\n",
    "        \n",
    "print(dup_list) "
   ]
  },
  {
   "cell_type": "code",
   "execution_count": 22,
   "metadata": {},
   "outputs": [
    {
     "name": "stdout",
     "output_type": "stream",
     "text": [
      "Key is present in the dictionary\n"
     ]
    }
   ],
   "source": [
    "## TASK 5\n",
    "### script to check if a given key already exists in a dictionary\n",
    "\n",
    "d = {1: 10, 2: 20, 3: 30, 4: 40, 5: 50, 6: 60}\n",
    "def is_key_present(x):\n",
    "  if x in d:\n",
    "      print('Key is present in the dictionary')\n",
    "  else:\n",
    "      print('Key is not present in the dictionary')\n",
    "is_key_present(5)\n"
   ]
  }
 ],
 "metadata": {
  "kernelspec": {
   "display_name": "Python 3",
   "language": "python",
   "name": "python3"
  },
  "language_info": {
   "codemirror_mode": {
    "name": "ipython",
    "version": 3
   },
   "file_extension": ".py",
   "mimetype": "text/x-python",
   "name": "python",
   "nbconvert_exporter": "python",
   "pygments_lexer": "ipython3",
   "version": "3.7.4"
  }
 },
 "nbformat": 4,
 "nbformat_minor": 2
}
