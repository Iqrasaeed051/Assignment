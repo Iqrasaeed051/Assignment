{
 "cells": [
  {
   "cell_type": "code",
   "execution_count": 6,
   "metadata": {},
   "outputs": [
    {
     "name": "stdout",
     "output_type": "stream",
     "text": [
      "iqra\n",
      "s\n",
      "14\n",
      "karachi\n",
      "{'first_name': 'iqra', 'last_name': 's', 'age': 14, 'city': 'karachi', 'qualification': 'intermedaite'}\n",
      " qualification is intermedaite\n",
      "\n",
      "\t THE UPDATED DICTIONARY WITH UPDATED VALUES OF QUALIFICATION.\n",
      "\n",
      "{'first_name': 'iqra', 'last_name': 's', 'age': 14, 'city': 'karachi', 'qualification': 'MS'}\n",
      "\n",
      "\t DELETED THE KEY OF QUALIFICATION \n",
      "\n",
      "{'first_name': 'iqra', 'last_name': 's', 'age': 14, 'city': 'karachi'}\n"
     ]
    }
   ],
   "source": [
    "### TASK 1\n",
    " \n",
    "person = {\n",
    "    'first_name': 'iqra',\n",
    "    'last_name': 's',\n",
    "    'age':14,\n",
    "    'city': 'karachi',\n",
    "    }\n",
    "\n",
    "print(person['first_name'])\n",
    "print(person['last_name'])\n",
    "print(person['age'])\n",
    "print(person['city'])\n",
    "person.update({\"qualification\":\"intermedaite\"})\n",
    "print(person)\n",
    "print(\" qualification is \"+  person['qualification'])\n",
    "person['qualification'] = \"MS\"\n",
    "print(\"\\nTHE UPDATED DICTIONARY WITH UPDATED VALUES OF QUALIFICATION.\\n\")\n",
    "print(person)\n",
    "\n",
    "del person['qualification']\n",
    "print(\"\\nDELETED THE KEY OF QUALIFICATION \\n\")\n",
    "print(person)"
   ]
  },
  {
   "cell_type": "code",
   "execution_count": 8,
   "metadata": {},
   "outputs": [
    {
     "name": "stdout",
     "output_type": "stream",
     "text": [
      "we have 3 cities database which is \n",
      "\n",
      "karachi\n",
      "Toronto\n",
      "Munich\n",
      "\n",
      "Enter above mentioned city name to fetch data from  Munich\n",
      "Munich : {'country': 'Germany', 'population': '4.141 million', 'fact': 'There are over 60 beer gardens in Munich', 'Most Visited ': '19.44 million'}\n"
     ]
    }
   ],
   "source": [
    "### TASK 3\n",
    "\n",
    "cities = {\n",
    "    \"karachi\": {\n",
    "        \"country\":\"Pakistan\",\n",
    "        \"population\": \"13.2\",\n",
    "        \"fact\": \"Pakistan is famous for Toursim\",\n",
    "        \"Most Visited \":\"19.05 million\"\n",
    "        },\n",
    "    \n",
    "    \"Toronto\": {\n",
    "        \"country\":\"Capital of Canada\",\n",
    "        \"population\": \"9.9 million\",\n",
    "        \"fact\": \"Nigran Fall\",\n",
    "        \"Most Visited \":\"19.96 million\"\n",
    "        },\n",
    "    \n",
    "    \"Munich\": {\n",
    "        \"country\":\"Germany\",\n",
    "        \"population\": \"4.141 million\",\n",
    "        \"fact\": \"There are over 60 beer gardens in Munich\",\n",
    "        \"Most Visited \":\"19.44 million\"\n",
    "        \n",
    "        }\n",
    "}\n",
    "print(\"we have 3 cities database which is \\n\")\n",
    "for cities_name in cities.keys():\n",
    "    print(cities_name)\n",
    "city =input(\"\\nEnter above mentioned city name to fetch data from  \")\n",
    "flag = False\n",
    "for city_key,city_val in cities.items():\n",
    "    if city_key == city:\n",
    "        flag = True\n",
    "        break\n",
    "if(flag):\n",
    "    print(str(city_key) + \" : \" + str(city_val) )\n",
    "else:\n",
    "    print(\"No City\")"
   ]
  },
  {
   "cell_type": "code",
   "execution_count": 19,
   "metadata": {},
   "outputs": [
    {
     "name": "stdout",
     "output_type": "stream",
     "text": [
      "Welcome to online ticket booking system\n",
      "\n",
      "How many persons 3\n",
      "charge ticket cost according the age\n",
      "\n",
      "Please Enter Age 14\n",
      "charged more than 12 years old the ticket cost is 12$\n",
      "\n",
      "Please Enter Age 3\n",
      " \n",
      "don't charge for below 3 years old.\n",
      "\n",
      "Please Enter Age 87\n",
      "charged more than 12 years old the ticket cost is 12$\n",
      " Total Cost of Tickets is 24$\n"
     ]
    }
   ],
   "source": [
    "### TASK 3\n",
    "\n",
    "\n",
    "print(\"online ticket booking system\")\n",
    "\n",
    "persons_number =int(input(\"\\nHow many persons \"))\n",
    "\n",
    "\n",
    "print(\"charge ticket cost according the age\")\n",
    "total_price = 0\n",
    "for i in range(1,persons_number+1):\n",
    "    age = int(input(\"\\nPlease Enter Age \"))\n",
    "    if age <= 3 and persons_number != 1:\n",
    "        print(\" \\ndon't charge for below 3 years old.\")\n",
    "    elif age <= 3 and persons_number == 1:\n",
    "        print(\" \\ndon't allow alone kid on cinema.\")    \n",
    "    elif age <= 12 and age >= 3:\n",
    "        print(\"charged more than 3 years old and below 12 years old the ticket cost is 10$\")\n",
    "        total_price +=10\n",
    "                \n",
    "    elif age >= 12:\n",
    "        print(\"charged more than 12 years old the ticket cost is 12$\")\n",
    "        total_price +=12\n",
    "        \n",
    "print(\" Total Cost of Tickets is \" + str(total_price)+\"$\")"
   ]
  },
  {
   "cell_type": "code",
   "execution_count": 18,
   "metadata": {},
   "outputs": [
    {
     "name": "stdout",
     "output_type": "stream",
     "text": [
      "Welcome to Read Online Books\n",
      "Enter Your Book Name = The Modren Breakup\n",
      "The Modren Breakup {'Author': 'Daniel Chidiac', 'Publisher': 'Undercover publishing house', 'Publication date': '16 july 2019', 'Total Pages ': '290'}\n"
     ]
    }
   ],
   "source": [
    "### TASK 4\n",
    "\n",
    "print(\"Welcome to Read Online Books\")\n",
    "book_details = {\n",
    "    \"Fourty Rules of Love\": \n",
    "    {\n",
    "        \"Author\":\"Elaf shafak\",\n",
    "        \"Publisher\": \"Penguin Books\",\n",
    "        \"Publication date\": \"March 2009.\",\n",
    "        \"Total Pages \":\"354\"\n",
    "    },\n",
    "    \"Atitude is Everything\": \n",
    "    {\n",
    "        \"Author\":\"Jeff keller\",\n",
    "        \"Publisher\": \"Art seigel\",\n",
    "        \"Publication date\": \"1999\",\n",
    "        \"Total Pages \":\"454\"\n",
    "    },\n",
    "    \"The Modren Breakup\": \n",
    "    {\n",
    "        \"Author\":\"Daniel Chidiac\",\n",
    "        \"Publisher\": \"Undercover publishing house\",\n",
    "        \"Publication date\": \"16 july 2019\",\n",
    "        \"Total Pages \":\"290\"\n",
    "        \n",
    "    }\n",
    "}\n",
    "input_book_name = input(\"Enter Your Book Name = \")\n",
    "\n",
    "def find_book(input_book_name):\n",
    "    flag = False \n",
    "    for book_key,book_values in book_details.items():\n",
    "        if book_key == input_book_name:\n",
    "            flag =  True\n",
    "            break\n",
    "    if(flag):            \n",
    "        \n",
    "        print(str(book_key) + \" \" + str(book_values) )\n",
    "        \n",
    "    else:\n",
    "        print(\"Thanks for your input but \"+ input_book_name +\" not available on store\")    \n",
    "    \n",
    "            \n",
    "find_book(input_book_name)"
   ]
  }
 ],
 "metadata": {
  "kernelspec": {
   "display_name": "Python 3",
   "language": "python",
   "name": "python3"
  },
  "language_info": {
   "codemirror_mode": {
    "name": "ipython",
    "version": 3
   },
   "file_extension": ".py",
   "mimetype": "text/x-python",
   "name": "python",
   "nbconvert_exporter": "python",
   "pygments_lexer": "ipython3",
   "version": "3.7.4"
  }
 },
 "nbformat": 4,
 "nbformat_minor": 2
}
