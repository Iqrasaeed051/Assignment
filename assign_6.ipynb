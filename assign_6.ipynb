{
 "cells": [
  {
   "cell_type": "code",
   "execution_count": 2,
   "metadata": {},
   "outputs": [
    {
     "data": {
      "text/plain": [
       "'\\n1)CLASS:A class is an entity that determines how an object will behave and what the object will contain. In other words, \\nit is a blueprint or a set of instruction to build a specific type of object.\\n\\n2)OBJECT:An object is nothing but a self-contained component which consists of methods and properties\\nto make a particular type of data useful. Object determines the behavior of the\\nclass. When you send a message to an object, you are asking the object to \\ninvoke or execute one of its methods.\\n\\nFrom a programming point of view, an object can be a data structure, a variable \\nor a function. It has a memory location allocated. The object is designed as \\nclass hierarchies.\\n\\n3)ATTRIBUTES:In Object-oriented programming(OOP), classes and objects have\\nattributes. Attributes are data stored inside a class or instance and represent\\nthe state or quality of the class or instance. In short, attributes store\\ninformation about the instance. Also, attributes should not be confused with\\nclass functions also known as methods. One can think of attributes as noun or \\nadjective, while methods are the verb of the class.\\n\\n4) BEHAVIOR:A class can inherit the attributes and behaviour of another class\\n(its parent), and it can modify or customize that behaviour (i.e., its methods)\\nfor itself. This leads to the concept of polymorphism. Polymorphism means that\\nwhen an object receives a message, the correct method is called, based on the \\nobject’s class. That method may belong to the parent, or it may be one that is \\ncustomized for this class.\\n'"
      ]
     },
     "execution_count": 2,
     "metadata": {},
     "output_type": "execute_result"
    }
   ],
   "source": [
    "#### ASSIGNMENT 6 \n",
    "\n",
    "### TASK 1\n",
    "## DEFINE OOP?\n",
    "\n",
    "\"\"\"Object-oriented programming aims to implement real-world entities \n",
    "like inheritance, hiding, polymorphism, etc in programming. \n",
    "The main aim of OOP is to bind together the data and the functions that \n",
    "operate on them so that no other part of the code can access this data except\n",
    "that function.\"\"\"\n",
    "\n",
    "### TASK 2\n",
    "## lIST DOWN THE BENEFITS OF OOP\n",
    "\n",
    "\"\"\"\n",
    "*Modularity for easier troubleshooting. Something has gone wrong,\n",
    "and you have no idea where to look.\n",
    "*Reuse of code through inheritance. \n",
    "*Flexibility through polymorphism. \n",
    "*Effective problem solving.\n",
    "\"\"\"\n",
    "\n",
    "### TASK 3\n",
    "## DIFFERENTIATE B/W FUNCTION AND METHOD\n",
    "\n",
    "\"\"\"\n",
    "=>A function is a piece of code that is called by name. \n",
    "It can be passed data to operate on (i.e. the parameters) and \n",
    "can optionally return data (the return value).\n",
    "All data that is passed to a function is explicitly passed.\n",
    "\n",
    "=>A method is a piece of code that is called by a name that is associated with \n",
    "an object. In most respects it is identical to a function except for two key \n",
    "differences:\n",
    "\n",
    "    *A method is implicitly passed the object on which it was called.\n",
    "   * A method is able to operate on data that is contained within the class \n",
    "   (remembering that an object is an instance of a class - the class is\n",
    "   the definition, the object is an instance of that data).\n",
    "   \n",
    "   \"\"\"\n",
    "\n",
    "### TASK 4\n",
    "## DIFINE\n",
    "\"\"\"\n",
    "1)CLASS:A class is an entity that determines how an object will behave and what the object will contain. In other words, \n",
    "it is a blueprint or a set of instruction to build a specific type of object.\n",
    "\n",
    "2)OBJECT:An object is nothing but a self-contained component which consists of methods and properties\n",
    "to make a particular type of data useful. Object determines the behavior of the\n",
    "class. When you send a message to an object, you are asking the object to \n",
    "invoke or execute one of its methods.\n",
    "\n",
    "From a programming point of view, an object can be a data structure, a variable \n",
    "or a function. It has a memory location allocated. The object is designed as \n",
    "class hierarchies.\n",
    "\n",
    "3)ATTRIBUTES:In Object-oriented programming(OOP), classes and objects have\n",
    "attributes. Attributes are data stored inside a class or instance and represent\n",
    "the state or quality of the class or instance. In short, attributes store\n",
    "information about the instance. Also, attributes should not be confused with\n",
    "class functions also known as methods. One can think of attributes as noun or \n",
    "adjective, while methods are the verb of the class.\n",
    "\n",
    "4) BEHAVIOR:A class can inherit the attributes and behaviour of another class\n",
    "(its parent), and it can modify or customize that behaviour (i.e., its methods)\n",
    "for itself. This leads to the concept of polymorphism. Polymorphism means that\n",
    "when an object receives a message, the correct method is called, based on the \n",
    "object’s class. That method may belong to the parent, or it may be one that is \n",
    "customized for this class.\n",
    "\"\"\"\n",
    "\n"
   ]
  },
  {
   "cell_type": "code",
   "execution_count": 86,
   "metadata": {},
   "outputs": [
    {
     "name": "stdout",
     "output_type": "stream",
     "text": [
      "The color of a car is :  Black\n",
      "Suzuki\n",
      "5454\n"
     ]
    }
   ],
   "source": [
    "\n",
    "  class Car:\n",
    "    def __init__(self,model,color,name,company,number):\n",
    "        self.model=model\n",
    "        self.color=color\n",
    "        self.name=name\n",
    "        self.company=company\n",
    "        self.number=number\n",
    "        \n",
    "    def print_color(self):\n",
    "        print(\"The color of a car is : \",self.color)\n",
    "            \n",
    "    def print_UPdatecompany(self):\n",
    "        self.company=\"Suzuki\"\n",
    "        print(self.company)\n",
    "            \n",
    "    def print_number(self):\n",
    "        print(self.number)\n",
    "            \n",
    "car1=Car('2019','Black','Corolla','Toyota','2132')\n",
    "car2=Car('2018','white','VIGO','Toyota','5454')\n",
    "car3=Car('2017','Red','vi','Toyota','14132')\n",
    "car4=Car('2016','Blue','Civic','Honda','8932')\n",
    "car5=Car('2015','Yellow','vitz','Honda','9922')\n",
    "\n",
    "\n",
    "\n",
    "car1.print_color()\n",
    "car2.print_UPdatecompany()\n",
    "car2.print_number()"
   ]
  },
  {
   "cell_type": "code",
   "execution_count": null,
   "metadata": {},
   "outputs": [],
   "source": [
    "\n"
   ]
  }
 ],
 "metadata": {
  "kernelspec": {
   "display_name": "Python 3",
   "language": "python",
   "name": "python3"
  },
  "language_info": {
   "codemirror_mode": {
    "name": "ipython",
    "version": 3
   },
   "file_extension": ".py",
   "mimetype": "text/x-python",
   "name": "python",
   "nbconvert_exporter": "python",
   "pygments_lexer": "ipython3",
   "version": "3.7.4"
  }
 },
 "nbformat": 4,
 "nbformat_minor": 2
}
